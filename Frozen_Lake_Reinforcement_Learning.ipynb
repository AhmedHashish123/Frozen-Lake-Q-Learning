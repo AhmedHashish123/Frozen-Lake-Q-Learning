{
 "cells": [
  {
   "attachments": {},
   "cell_type": "markdown",
   "metadata": {
    "id": "99CHQ9K1kRyh"
   },
   "source": [
    "## Frozen Lake Game Intsructions:\n",
    "https://www.gymlibrary.dev/environments/toy_text/frozen_lake/"
   ]
  },
  {
   "attachments": {},
   "cell_type": "markdown",
   "metadata": {
    "id": "bW_ISdcxkSBo"
   },
   "source": [
    "## Imports:"
   ]
  },
  {
   "cell_type": "code",
   "execution_count": 4,
   "metadata": {
    "id": "Lg4Qx0z4ap2A"
   },
   "outputs": [],
   "source": [
    "import numpy as np\n",
    "import gym\n",
    "import random\n",
    "import time\n",
    "from IPython.display import clear_output"
   ]
  },
  {
   "attachments": {},
   "cell_type": "markdown",
   "metadata": {
    "id": "MuokbyA3g5vJ"
   },
   "source": [
    "## Initialize Environment and Hyper Parameters:"
   ]
  },
  {
   "cell_type": "code",
   "execution_count": 5,
   "metadata": {
    "colab": {
     "base_uri": "https://localhost:8080/"
    },
    "id": "AQiRycTwap4e",
    "outputId": "1c272516-93ed-45ad-c229-db7b0aff87ba"
   },
   "outputs": [],
   "source": [
    "env = gym.make(\"FrozenLake-v0\")"
   ]
  },
  {
   "cell_type": "code",
   "execution_count": 6,
   "metadata": {
    "colab": {
     "base_uri": "https://localhost:8080/"
    },
    "id": "fvvpWtqJap7-",
    "outputId": "58815ce8-83b3-41e7-9d98-254b1213fc13"
   },
   "outputs": [
    {
     "name": "stdout",
     "output_type": "stream",
     "text": [
      "[[0. 0. 0. 0.]\n",
      " [0. 0. 0. 0.]\n",
      " [0. 0. 0. 0.]\n",
      " [0. 0. 0. 0.]\n",
      " [0. 0. 0. 0.]\n",
      " [0. 0. 0. 0.]\n",
      " [0. 0. 0. 0.]\n",
      " [0. 0. 0. 0.]\n",
      " [0. 0. 0. 0.]\n",
      " [0. 0. 0. 0.]\n",
      " [0. 0. 0. 0.]\n",
      " [0. 0. 0. 0.]\n",
      " [0. 0. 0. 0.]\n",
      " [0. 0. 0. 0.]\n",
      " [0. 0. 0. 0.]\n",
      " [0. 0. 0. 0.]]\n"
     ]
    }
   ],
   "source": [
    "action_space_size = env.action_space.n\n",
    "state_space_size = env.observation_space.n\n",
    "\n",
    "q_table = np.zeros((state_space_size,action_space_size))\n",
    "print(q_table)"
   ]
  },
  {
   "cell_type": "code",
   "execution_count": 7,
   "metadata": {
    "id": "pHyQF62gbjE_"
   },
   "outputs": [],
   "source": [
    "num_episodes = 10000 # Total number of episodes our agent will play during training\n",
    "max_steps_per_episode = 100 # Exceeding this in a single episode will terminate the episode with no reward\n",
    "\n",
    "learning_rate = 0.1\n",
    "discount_rate = 0.99\n",
    "\n",
    "# We will use epsilon greedy strategy to solve exploration-exploitation problem\n",
    "exploration_rate = 1 # Initial exploration rate\n",
    "max_exploration_rate = 1\n",
    "min_exploration_rate = 0.01\n",
    "exploration_decay_rate = 0.001"
   ]
  },
  {
   "attachments": {},
   "cell_type": "markdown",
   "metadata": {
    "id": "V_-S5BwKcfKt"
   },
   "source": [
    "## Q-Learning Algorithm Using Value Iteration:"
   ]
  },
  {
   "cell_type": "code",
   "execution_count": 8,
   "metadata": {
    "id": "y8KXRO5vcd4k"
   },
   "outputs": [],
   "source": [
    "rewards_all_episodes = []\n",
    "\n",
    "for episode in range(num_episodes):\n",
    "    state = env.reset() # Reset the env back to the starting state\n",
    "    done = False\n",
    "    rewards_current_episode = 0\n",
    "\n",
    "    for step in range(max_steps_per_episode):\n",
    "\n",
    "        # Exploration-Exploitation trade-off:\n",
    "        exploration_rate_threshold = random.uniform(0,1)\n",
    "        if(exploration_rate_threshold > exploration_rate): # Exploitation (choose the action in the Q-table that has the hoghest q-value in the current state)\n",
    "            action = np.argmax(q_table[state,:])\n",
    "        else: # Exploartion (choose a random action)\n",
    "            action = env.action_space.sample()\n",
    "\n",
    "        new_state, reward, done, info = env.step(action)\n",
    "\n",
    "        # Update Q-tbale for Q(s,a), the new q_table[state,action] is the weighted sum of our old value and our new value\n",
    "        q_table[state, action] = (1 - learning_rate)  * q_table[state, action] + learning_rate * (reward + discount_rate * np.max(q_table[new_state,:]))\n",
    "\n",
    "        state = new_state\n",
    "        rewards_current_episode += reward\n",
    "\n",
    "        if(done == True):\n",
    "            break\n",
    "\n",
    "    # Exploration rate decay:\n",
    "    # Exploration rate decays/decreases at a rate proportional to its current value\n",
    "    exploration_rate = min_exploration_rate + (max_exploration_rate - min_exploration_rate) * np.exp(-exploration_decay_rate * episode)\n",
    "\n",
    "    rewards_all_episodes.append(rewards_current_episode)"
   ]
  },
  {
   "attachments": {},
   "cell_type": "markdown",
   "metadata": {
    "id": "pUEQLQO2g1pY"
   },
   "source": [
    "## Calculate and print the average reward per thousand episodes:"
   ]
  },
  {
   "cell_type": "code",
   "execution_count": 9,
   "metadata": {
    "colab": {
     "base_uri": "https://localhost:8080/"
    },
    "id": "yGPLWOTWgsyq",
    "outputId": "fa4fa6e6-c9b0-42ed-c565-51c7c60fc52b"
   },
   "outputs": [
    {
     "name": "stdout",
     "output_type": "stream",
     "text": [
      "1000: 0.048000000000000036\n",
      "2000: 0.19700000000000015\n",
      "3000: 0.3800000000000003\n",
      "4000: 0.5400000000000004\n",
      "5000: 0.6670000000000005\n",
      "6000: 0.6660000000000005\n",
      "7000: 0.6830000000000005\n",
      "8000: 0.6610000000000005\n",
      "9000: 0.7030000000000005\n",
      "10000: 0.6680000000000005\n"
     ]
    }
   ],
   "source": [
    "rewards_per_thousand_episodes = np.split(np.array(rewards_all_episodes),num_episodes/1000)\n",
    "count = 1000\n",
    "for r in rewards_per_thousand_episodes:\n",
    "  print(\"\"+ str(count) + \": \"+str(sum(r/1000)))\n",
    "  count += 1000"
   ]
  },
  {
   "attachments": {},
   "cell_type": "markdown",
   "metadata": {
    "id": "Ikir6Xqlick4"
   },
   "source": [
    "## Print updated Q-table:"
   ]
  },
  {
   "cell_type": "code",
   "execution_count": 10,
   "metadata": {
    "colab": {
     "base_uri": "https://localhost:8080/"
    },
    "id": "w6NbdqEUiew2",
    "outputId": "f1d1b322-35d4-4203-dd3b-67d7ce3ea840"
   },
   "outputs": [
    {
     "name": "stdout",
     "output_type": "stream",
     "text": [
      "[[0.53868993 0.49113229 0.49065806 0.49032607]\n",
      " [0.20473038 0.31404117 0.28621654 0.48039883]\n",
      " [0.40465842 0.39150273 0.40253836 0.45064642]\n",
      " [0.25893432 0.32711681 0.26545205 0.44122871]\n",
      " [0.55639581 0.40296089 0.45393588 0.29868778]\n",
      " [0.         0.         0.         0.        ]\n",
      " [0.16756418 0.09041766 0.39669108 0.14664505]\n",
      " [0.         0.         0.         0.        ]\n",
      " [0.26911493 0.34499917 0.39618497 0.6098838 ]\n",
      " [0.46305508 0.68380371 0.46065191 0.3390587 ]\n",
      " [0.68328439 0.40696717 0.37190575 0.32035505]\n",
      " [0.         0.         0.         0.        ]\n",
      " [0.         0.         0.         0.        ]\n",
      " [0.55192043 0.5343802  0.78404234 0.48441764]\n",
      " [0.70156479 0.92167785 0.73372002 0.7065445 ]\n",
      " [0.         0.         0.         0.        ]]\n"
     ]
    }
   ],
   "source": [
    "print(q_table)"
   ]
  },
  {
   "attachments": {},
   "cell_type": "markdown",
   "metadata": {
    "id": "KfpcVH3Xk-RK"
   },
   "source": [
    "## Watch The Agent Play After Training:"
   ]
  },
  {
   "cell_type": "code",
   "execution_count": 13,
   "metadata": {
    "colab": {
     "base_uri": "https://localhost:8080/",
     "height": 235
    },
    "id": "PPlDrQ68jtCt",
    "outputId": "46c17619-053f-46d3-efa0-1c9077c5017c"
   },
   "outputs": [
    {
     "name": "stdout",
     "output_type": "stream",
     "text": [
      "  (Down)\n",
      "SFFF\n",
      "FHFH\n",
      "FFFH\n",
      "HFF\u001b[41mG\u001b[0m\n",
      "GOAL REACHED!!\n"
     ]
    }
   ],
   "source": [
    "for episode in range(3):\n",
    "\n",
    "  state = env.reset()\n",
    "  done = False\n",
    "\n",
    "  print(\"EPISODE \"+str(episode)+\"\")\n",
    "\n",
    "  time.sleep(1) # Sleep for 1 sec to have time to read that print\n",
    "\n",
    "  for step in range(max_steps_per_episode):\n",
    "\n",
    "    clear_output(wait = True) # Clears the output from the current cell of the notebook. wait = True means to wait to clear the output until another print overwrites it\n",
    "    env.render()\n",
    "    time.sleep(0.3)\n",
    "\n",
    "    action = np.argmax(q_table[state,:]) # Select the action which has the highest q-value in our q-table in the current state\n",
    "    new_state, reward, done, info = env.step(action)\n",
    "\n",
    "    if(done):\n",
    "      clear_output(wait=True)\n",
    "      env.render()\n",
    "      if(reward == 1):\n",
    "        print(\"GOAL REACHED!!\")\n",
    "        time.sleep(3)\n",
    "\n",
    "      else:\n",
    "        print(\"YOU FELL :(\")\n",
    "        time.sleep(3)\n",
    "\n",
    "      clear_output(wait=True)\n",
    "      break\n",
    "\n",
    "    state = new_state\n",
    "\n",
    "env.close()"
   ]
  },
  {
   "cell_type": "code",
   "execution_count": null,
   "metadata": {
    "id": "R3cOkwYFo-iO"
   },
   "outputs": [],
   "source": []
  }
 ],
 "metadata": {
  "colab": {
   "provenance": []
  },
  "kernelspec": {
   "display_name": "Python 3",
   "language": "python",
   "name": "python3"
  },
  "language_info": {
   "codemirror_mode": {
    "name": "ipython",
    "version": 3
   },
   "file_extension": ".py",
   "mimetype": "text/x-python",
   "name": "python",
   "nbconvert_exporter": "python",
   "pygments_lexer": "ipython3",
   "version": "3.11.3"
  }
 },
 "nbformat": 4,
 "nbformat_minor": 1
}
